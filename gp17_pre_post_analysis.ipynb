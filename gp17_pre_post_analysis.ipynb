{
 "cells": [
  {
   "cell_type": "code",
   "execution_count": 1,
   "metadata": {},
   "outputs": [],
   "source": [
    "##Import\n",
    "import pickle\n",
    "import pandas as pd\n",
    "import itertools\n",
    "import math"
   ]
  },
  {
   "cell_type": "code",
   "execution_count": 2,
   "metadata": {},
   "outputs": [],
   "source": [
    "#pull in dicts \n",
    "pre_outcomes = pickle.load(open(\"pickle_pre.p\",\"rb\"))  #note: these don't need to be different files, just for convenience\n",
    "post_outcomes = pickle.load(open(\"pickle_post.p\",\"rb\"))   #note: these don't need to be different files, just for convenience\n",
    "#key\n",
    "samples = pd.read_excel(\"gp17_pre_post_key.xlsx\")[[\"condition\",\"pre_file\",\"post_file\"]]"
   ]
  },
  {
   "cell_type": "code",
   "execution_count": 3,
   "metadata": {},
   "outputs": [],
   "source": [
    "#get enrichment/depletion\n",
    "fewer_outcomes = 'wpn'\n",
    "rel_abundance_dict = {}\n",
    "for i in samples.index:\n",
    "    rel_abundance_dict[samples['condition'][i]] = {}\n",
    "    for product in itertools.product(fewer_outcomes, repeat=4):\n",
    "        if pre_outcomes[samples['pre_file'][i]][product] == float(0) and post_outcomes[samples['post_file'][i]][product] < float(0.01):\n",
    "            rel_abundance_dict[samples['condition'][i]][product] = 'undetermined'        \n",
    "        elif pre_outcomes[samples['pre_file'][i]][product] < float(0.01) and post_outcomes[samples['post_file'][i]][product] == float(0):\n",
    "            rel_abundance_dict[samples['condition'][i]][product] = 'undetermined'      \n",
    "        elif pre_outcomes[samples['pre_file'][i]][product] == float(0) and post_outcomes[samples['post_file'][i]][product] >= float(0.01):\n",
    "            rel_abundance_dict[samples['condition'][i]][product] = '>= 100X enriched'\n",
    "        elif pre_outcomes[samples['pre_file'][i]][product] >= float(0.01) and post_outcomes[samples['post_file'][i]][product] == float(0):\n",
    "            rel_abundance_dict[samples['condition'][i]][product] = '>= 100X depleted'        \n",
    "        else:\n",
    "            rel_abundance_dict[samples['condition'][i]][product] = post_outcomes[samples['post_file'][i]][product] / pre_outcomes[samples['pre_file'][i]][product]\n",
    "            "
   ]
  },
  {
   "cell_type": "code",
   "execution_count": 4,
   "metadata": {},
   "outputs": [],
   "source": [
    "#get enrichment/depletion normalized to the full wt\n",
    "fewer_outcomes = 'wpn'\n",
    "rel_abundance_dict_norm_wt = {}\n",
    "for i in samples.index:\n",
    "    wt_relative_abundance = post_outcomes[samples['post_file'][i]][('w','w','w','w')] / pre_outcomes[samples['pre_file'][i]][('w','w','w','w')]\n",
    "    rel_abundance_dict_norm_wt[samples['condition'][i]] = {}\n",
    "    for product in itertools.product(fewer_outcomes, repeat=4):\n",
    "        if pre_outcomes[samples['pre_file'][i]][product] == float(0) and post_outcomes[samples['post_file'][i]][product] < float(0.01):\n",
    "            rel_abundance_dict_norm_wt[samples['condition'][i]][product] = 'undetermined'        \n",
    "        elif pre_outcomes[samples['pre_file'][i]][product] < float(0.01) and post_outcomes[samples['post_file'][i]][product] == float(0):\n",
    "            rel_abundance_dict_norm_wt[samples['condition'][i]][product] = 'undetermined'      \n",
    "        elif pre_outcomes[samples['pre_file'][i]][product] == float(0) and post_outcomes[samples['post_file'][i]][product] >= float(0.01):\n",
    "            rel_abundance_dict_norm_wt[samples['condition'][i]][product] = '>= 100X enriched'\n",
    "        elif pre_outcomes[samples['pre_file'][i]][product] >= float(0.01) and post_outcomes[samples['post_file'][i]][product] == float(0):\n",
    "            rel_abundance_dict_norm_wt[samples['condition'][i]][product] = '>= 100X depleted'   \n",
    "        else:\n",
    "            rel_abundance_dict_norm_wt[samples['condition'][i]][product] = (post_outcomes[samples['post_file'][i]][product] / pre_outcomes[samples['pre_file'][i]][product])/wt_relative_abundance\n"
   ]
  },
  {
   "cell_type": "code",
   "execution_count": 5,
   "metadata": {},
   "outputs": [],
   "source": [
    "# Convert dictionary to DataFrame\n",
    "df = pd.DataFrame(rel_abundance_dict)\n",
    "\n",
    "# Output DataFrame to Excel file\n",
    "df.to_excel(\"rel_abundance.xlsx\", index=True)"
   ]
  },
  {
   "cell_type": "code",
   "execution_count": 6,
   "metadata": {},
   "outputs": [],
   "source": [
    "# Convert dictionary to DataFrame\n",
    "df = pd.DataFrame(rel_abundance_dict_norm_wt)\n",
    "\n",
    "# Output DataFrame to Excel file\n",
    "df.to_excel(\"rel_abundance_norm_wt.xlsx\", index=True)"
   ]
  },
  {
   "cell_type": "code",
   "execution_count": 7,
   "metadata": {},
   "outputs": [],
   "source": [
    "#for all doubles, get difference from sum of singles (in log10)\n",
    "epi_dict = {}\n",
    "for rep in rel_abundance_dict_norm_wt:\n",
    "    epi_dict[rep] = {}\n",
    "    for outcome in rel_abundance_dict_norm_wt[rep]:\n",
    "        singles = []\n",
    "        try:\n",
    "            if outcome[0] is not 'w':\n",
    "                singles.append(math.log(rel_abundance_dict_norm_wt[rep][('%s' %outcome[0], 'w', 'w', 'w')],10))\n",
    "            if outcome[1] is not 'w':\n",
    "                singles.append(math.log(rel_abundance_dict_norm_wt[rep][('w', '%s' %outcome[1], 'w', 'w')],10))\n",
    "            if outcome[2] is not 'w':\n",
    "                singles.append(math.log(rel_abundance_dict_norm_wt[rep][('w', 'w', '%s' %outcome[2], 'w')],10))       \n",
    "            if outcome[3] is not 'w':\n",
    "                singles.append(math.log(rel_abundance_dict_norm_wt[rep][('w', 'w', 'w', '%s' %outcome[3])],10))\n",
    "            if rel_abundance_dict[rep][outcome] is not 'undetermined':\n",
    "                epi_dict[rep][outcome] = math.log(rel_abundance_dict_norm_wt[rep][outcome],10) - sum(singles)\n",
    "            else: epi_dict[rep][outcome] = 'undetermined'\n",
    "        except TypeError:\n",
    "            epi_dict[rep][outcome] = 'no single'"
   ]
  },
  {
   "cell_type": "code",
   "execution_count": 8,
   "metadata": {},
   "outputs": [],
   "source": [
    "# Convert dictionary to DataFrame\n",
    "df = pd.DataFrame(epi_dict)\n",
    "\n",
    "# Output DataFrame to Excel file\n",
    "df.to_excel(\"epi_log10_norm_wt.xlsx\", index=True)"
   ]
  },
  {
   "cell_type": "code",
   "execution_count": null,
   "metadata": {},
   "outputs": [],
   "source": []
  }
 ],
 "metadata": {
  "kernelspec": {
   "display_name": "Python 3 (ipykernel)",
   "language": "python",
   "name": "python3"
  },
  "language_info": {
   "codemirror_mode": {
    "name": "ipython",
    "version": 3
   },
   "file_extension": ".py",
   "mimetype": "text/x-python",
   "name": "python",
   "nbconvert_exporter": "python",
   "pygments_lexer": "ipython3",
   "version": "3.7.4"
  }
 },
 "nbformat": 4,
 "nbformat_minor": 2
}
